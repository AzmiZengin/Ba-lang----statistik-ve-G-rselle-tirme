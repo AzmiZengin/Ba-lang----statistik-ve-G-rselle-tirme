{
 "cells": [
  {
   "cell_type": "code",
   "execution_count": 12,
   "id": "4b788dca-ac95-41ab-aa3b-8af01d81c1af",
   "metadata": {},
   "outputs": [],
   "source": [
    "import pandas as pd\n",
    "import numpy as np\n",
    "import matplotlib.pyplot as plt\n",
    "import seaborn as sns\n",
    "import os "
   ]
  },
  {
   "cell_type": "code",
   "execution_count": 55,
   "id": "6df9d4cd-6ef8-4ef4-a81f-d53476551846",
   "metadata": {},
   "outputs": [],
   "source": [
    "x=[3.44,3.81,3.51,3.78,4.22]\n",
    "y=[2.53,2.76,2.58,2.74,3.01]\n",
    "z=[1992,1993,1994,1995,1996]\n",
    "x1=np.array(x)\n",
    "x2=np.array(y)"
   ]
  },
  {
   "cell_type": "code",
   "execution_count": 3,
   "id": "dcc13345-7c5e-4875-85f6-92fba574856d",
   "metadata": {},
   "outputs": [],
   "source": [
    "liste=[[x],[y],[z]]\n",
    "data=np.array(liste)"
   ]
  },
  {
   "cell_type": "code",
   "execution_count": 4,
   "id": "de8f0d86-2c0d-4d6a-ab0c-ba719f9871a6",
   "metadata": {},
   "outputs": [
    {
     "data": {
      "text/plain": [
       "array([[[   3.44,    3.81,    3.51,    3.78,    4.22]],\n",
       "\n",
       "       [[   2.53,    2.76,    2.58,    2.74,    3.01]],\n",
       "\n",
       "       [[1992.  , 1993.  , 1994.  , 1995.  , 1996.  ]]])"
      ]
     },
     "execution_count": 4,
     "metadata": {},
     "output_type": "execute_result"
    }
   ],
   "source": [
    "data"
   ]
  },
  {
   "cell_type": "code",
   "execution_count": 5,
   "id": "7d7f8251-b367-418d-9338-66528fff1430",
   "metadata": {},
   "outputs": [],
   "source": [
    "columns=[\"Özel Harcamalar\",\"Özel Tüketim\",\"Yıllar\"]"
   ]
  },
  {
   "cell_type": "code",
   "execution_count": 13,
   "id": "c77f31ff-d939-4cbc-b8cc-b017c47fddba",
   "metadata": {},
   "outputs": [],
   "source": [
    "veri=pd.DataFrame({\"Özel Harcamalar\" :[3.44,3.81,3.51,3.78,4.22],\n",
    "\"Özel Tüketim\":[2.53,2.76,2.58,2.74,3.01],\n",
    "\"Yıllar\":[1992,1993,1994,1995,1996]})"
   ]
  },
  {
   "cell_type": "code",
   "execution_count": 14,
   "id": "fad7291d-2650-4a27-b4f7-2d14616a705f",
   "metadata": {},
   "outputs": [
    {
     "name": "stdout",
     "output_type": "stream",
     "text": [
      "   Özel Harcamalar  Özel Tüketim  Yıllar\n",
      "0             3.44          2.53    1992\n",
      "1             3.81          2.76    1993\n",
      "2             3.51          2.58    1994\n",
      "3             3.78          2.74    1995\n",
      "4             4.22          3.01    1996\n"
     ]
    }
   ],
   "source": [
    "print(veri)"
   ]
  },
  {
   "cell_type": "code",
   "execution_count": 15,
   "id": "9abe93de-69d0-4c82-a6f5-c8d49f2f94f2",
   "metadata": {},
   "outputs": [
    {
     "data": {
      "text/plain": [
       "(5, 3)"
      ]
     },
     "execution_count": 15,
     "metadata": {},
     "output_type": "execute_result"
    }
   ],
   "source": [
    "veri.shape"
   ]
  },
  {
   "cell_type": "code",
   "execution_count": 18,
   "id": "904f5161-917c-40b5-859f-8a8fbccb0761",
   "metadata": {},
   "outputs": [
    {
     "data": {
      "text/plain": [
       "Özel Harcamalar    0\n",
       "Özel Tüketim       0\n",
       "Yıllar             0\n",
       "dtype: int64"
      ]
     },
     "execution_count": 18,
     "metadata": {},
     "output_type": "execute_result"
    }
   ],
   "source": [
    "veri.isnull().sum() # Eksik verimiz varmı kontrol ediyoruz."
   ]
  },
  {
   "cell_type": "code",
   "execution_count": 65,
   "id": "d6c3e6c8-9268-4668-afc9-ba6fe0e01de9",
   "metadata": {
    "scrolled": true
   },
   "outputs": [
    {
     "name": "stdout",
     "output_type": "stream",
     "text": [
      "5\n",
      "18.759999999999998\n",
      "13.62\n"
     ]
    }
   ],
   "source": [
    "N=x1.size\n",
    "XTOPLAM=sum(x1)\n",
    "YTOPLAM=sum(x2)\n",
    "print(N) # TOPLAM DEĞİŞKEN SAYISI\n",
    "print(XTOPLAM) # TOPLAM X SAYISI\n",
    "print(YTOPLAM) # TOPLAM Y SAYISI"
   ]
  },
  {
   "cell_type": "code",
   "execution_count": 66,
   "id": "6ee40c65-3b85-44b3-a075-b6c2b3fce6ed",
   "metadata": {},
   "outputs": [
    {
     "name": "stdout",
     "output_type": "stream",
     "text": [
      "3.752\n",
      "2.7239999999999998\n"
     ]
    }
   ],
   "source": [
    "XORT=XTOPLAM/N # ORTALAMA X\n",
    "YORT=YTOPLAM/N # ORTALAMA Y\n",
    "print(XORT)\n",
    "print(YORT)"
   ]
  },
  {
   "cell_type": "markdown",
   "id": "30cf2d0b-74e4-49d7-9ca9-ad1f02b74f05",
   "metadata": {},
   "source": [
    "# ORTALAMA FARKLAR İLE B0 B1 KATSAYI BULMA "
   ]
  },
  {
   "cell_type": "code",
   "execution_count": 70,
   "id": "364a12ea-19d8-409e-b388-09f97b81e531",
   "metadata": {},
   "outputs": [
    {
     "name": "stdout",
     "output_type": "stream",
     "text": [
      "[-0.312  0.058 -0.242  0.028  0.468]\n",
      "[-0.194  0.036 -0.144  0.016  0.286]\n"
     ]
    }
   ],
   "source": [
    "X=x1-XORT\n",
    "Y=x2-YORT\n",
    "print(X) \n",
    "print(Y)\n",
    "# KÜÇÜK X VE Y LERİ BULDUK."
   ]
  },
  {
   "cell_type": "code",
   "execution_count": null,
   "id": "5856b03d-4b88-4e4f-b26a-1a3a7129ad5a",
   "metadata": {},
   "outputs": [],
   "source": []
  },
  {
   "cell_type": "code",
   "execution_count": 88,
   "id": "f33acfc3-3629-41e9-a189-3b1c46fba3d3",
   "metadata": {},
   "outputs": [
    {
     "name": "stdout",
     "output_type": "stream",
     "text": [
      "0.2317599999999999\n",
      "[0.060528 0.002088 0.034848 0.000448 0.133848]\n"
     ]
    }
   ],
   "source": [
    "XY=X*Y\n",
    "XYTOPLAM= sum(XY)\n",
    "print(XYTOPLAM) # TOPLAM XY\n",
    "print(XY) #XY ÇARPIMLARI"
   ]
  },
  {
   "cell_type": "code",
   "execution_count": 89,
   "id": "eb37cf67-2b9a-481c-a2c4-c303f2e2dc99",
   "metadata": {},
   "outputs": [
    {
     "name": "stdout",
     "output_type": "stream",
     "text": [
      "[0.097344 0.003364 0.058564 0.000784 0.219024]\n",
      "[0.037636 0.001296 0.020736 0.000256 0.081796]\n",
      "0.37907999999999986\n",
      "0.14171999999999993\n"
     ]
    }
   ],
   "source": [
    "X2= X**2\n",
    "Y2= Y**2\n",
    "X2TOPLAM=sum(X2) # X KARELERİN TOPLAMI\n",
    "Y2TOPLAM=sum(Y2) # Y KARELERİN TOPLAMI\n",
    "print(X2) # X1 LERİN KARESİ\n",
    "print(Y2) # X2 LERİN KARESİ\n",
    "print(X2TOPLAM)\n",
    "print(Y2TOPLAM)"
   ]
  },
  {
   "cell_type": "code",
   "execution_count": 90,
   "id": "6b84c7e2-55df-42e7-b7f3-c598a0356905",
   "metadata": {},
   "outputs": [
    {
     "name": "stdout",
     "output_type": "stream",
     "text": [
      "0.611374907671204\n"
     ]
    }
   ],
   "source": [
    "B1=XYTOPLAM/X2TOPLAM\n",
    "print(B1)"
   ]
  },
  {
   "cell_type": "code",
   "execution_count": 92,
   "id": "d15868ea-6e86-45f5-a854-4ab31b54cbed",
   "metadata": {},
   "outputs": [
    {
     "name": "stdout",
     "output_type": "stream",
     "text": [
      "0.43012134641764277\n"
     ]
    }
   ],
   "source": [
    "B0=YORT-(B1*XORT)\n",
    "print(B0)"
   ]
  },
  {
   "cell_type": "markdown",
   "id": "6c935f03-81fe-47d7-a90a-76c43054237a",
   "metadata": {},
   "source": [
    "# Y = 0,43 + 0,61X  Regresyon doğrumuz."
   ]
  },
  {
   "cell_type": "markdown",
   "id": "cea2a78e-4fb4-4668-8ecb-12575a1f0a47",
   "metadata": {},
   "source": [
    "# B0: harcanabilir gelir 0 olduğunda beklenen ortalama özel tüketim harcamaları miktarını vermektedir.\n",
    "# b1:0.6115 Değeri Marjinal Tüketim Eğilimini  göstermektedir. Özel harcanabilir gelir 1 birim arttığında özel tüketim harcamalarının ortalama 0.6115 birim artması beklenmektedir."
   ]
  },
  {
   "cell_type": "code",
   "execution_count": null,
   "id": "c7159e28-3f14-4a10-8125-e5318fc70dbc",
   "metadata": {},
   "outputs": [],
   "source": []
  }
 ],
 "metadata": {
  "kernelspec": {
   "display_name": "Python 3 (ipykernel)",
   "language": "python",
   "name": "python3"
  },
  "language_info": {
   "codemirror_mode": {
    "name": "ipython",
    "version": 3
   },
   "file_extension": ".py",
   "mimetype": "text/x-python",
   "name": "python",
   "nbconvert_exporter": "python",
   "pygments_lexer": "ipython3",
   "version": "3.11.4"
  }
 },
 "nbformat": 4,
 "nbformat_minor": 5
}
